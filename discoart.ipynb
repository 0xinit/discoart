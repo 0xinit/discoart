{
 "cells": [
  {
   "cell_type": "markdown",
   "id": "fcaba25c",
   "metadata": {},
   "source": [
    "<img src=\"https://github.com/jina-ai/docarray/blob/main/.github/banner.png?raw=true\" alt=\"Create Disco Diffusion artworks in one-line\" width=\"150px\">\n",
    "<p align=center>\n",
    "<a href=\"https://pypi.org/project/discoart/\"><img src=\"https://img.shields.io/pypi/v/discoart?style=flat-square&amp;label=Release\" alt=\"PyPI\"></a>\n",
    "<a href=\"https://slack.jina.ai\"><img src=\"https://img.shields.io/badge/Slack-3.1k-blueviolet?logo=slack&amp;logoColor=white&style=flat-square\"></a>\n",
    "<a href=\"https://colab.research.google.com/github/jina-ai/dalle-flow/blob/main/client.ipynb\"><img src=\"https://img.shields.io/badge/Open-in%20Colab-brightgreen?logo=google-colab&style=flat-square\" alt=\"Open in Google Colab\"/></a>\n",
    "</p>\n",
    "\n",
    "😎🪩 **If you are already a DD user**: you are ready to go! There is no extra learning, DiscoArt respects the same parameter semantics as DD5.2. So just unleash your creativity!\n",
    "- Note that DiscoArt does not support animation generation and `image_prompt` (which was marked as uneffective? in original DD 5.2).\n",
    "\n",
    "👶🎨 **If you are a [DALLE-Flow](https://github.com/jina-ai/dalle-flow/)/DALLE-Mini user**: you may want to take step by step, as Disco Diffusion works in a very different way than DALLE. It is much more advanced and powerful: e.g. Disco Diffusion can take weighted & structured text prompts; it can initialize from a image with controlled noise; and there are way more parameters one can tweak. Impatient prompt like `\"armchair avocado\"` will give you nothing but confusion and frustration. I highly recommend you to check out the following resources before trying your own prompt:\n",
    "- [Zippy's Disco Diffusion Cheatsheet v0.3](https://docs.google.com/document/d/1l8s7uS2dGqjztYSjPpzlmXLjl5PM3IGkRWI3IiCuK7g/mobilebasic)\n",
    "- [EZ Charts - Diffusion Parameter Studies](https://docs.google.com/document/d/1ORymHm0Te18qKiHnhcdgGp-WSt8ZkLZvow3raiu2DVU/edit#)\n",
    "- [Disco Diffusion 70+ Artist Studies](https://weirdwonderfulai.art/resources/disco-diffusion-70-plus-artist-studies/)\n",
    "\n",
    "# Install"
   ]
  },
  {
   "cell_type": "code",
   "execution_count": null,
   "id": "01d7e2b6",
   "metadata": {},
   "outputs": [],
   "source": [
    "!pip install discoart"
   ]
  },
  {
   "cell_type": "markdown",
   "id": "bededf9e",
   "metadata": {},
   "source": [
    "# Create artworks"
   ]
  },
  {
   "cell_type": "code",
   "execution_count": null,
   "id": "fd84009e",
   "metadata": {},
   "outputs": [],
   "source": [
    "from discoart import create\n",
    "\n",
    "da = create()"
   ]
  },
  {
   "cell_type": "markdown",
   "id": "ec9e12b9",
   "metadata": {},
   "source": [
    "That's it. It is that simple."
   ]
  },
  {
   "cell_type": "markdown",
   "id": "ad555643",
   "metadata": {},
   "source": [
    "# Specify parameters"
   ]
  },
  {
   "cell_type": "code",
   "execution_count": null,
   "id": "bb0892c9",
   "metadata": {},
   "outputs": [],
   "source": [
    "from discoart import create\n",
    "\n",
    "create(text_prompts='A painting of sea cliffs in a tumultuous storm, Trending on ArtStation.',\n",
    "       init_image='https://d2vyhzeko0lke5.cloudfront.net/2f4f6dfa5a05e078469ebe57e77b72f0.png',\n",
    "       skip_steps=100)"
   ]
  },
  {
   "cell_type": "markdown",
   "id": "cc19b60b",
   "metadata": {},
   "source": [
    "# Pull results\n",
    "\n",
    "At anytime on any machine, you can pull the real-time results (including paramters, intermedidate diffusion steps, final results) with a session ID:\n",
    "\n",
    "> Please replace `discoart-3205998582` to your own when you run the above 2 cells!"
   ]
  },
  {
   "cell_type": "code",
   "execution_count": null,
   "id": "e174cdc5",
   "metadata": {},
   "outputs": [],
   "source": [
    "from docarray import DocumentArray\n",
    "\n",
    "da = DocumentArray.pull('discoart-3205998582')"
   ]
  },
  {
   "cell_type": "markdown",
   "id": "d6aed8b6",
   "metadata": {},
   "source": [
    "## Plot all final results"
   ]
  },
  {
   "cell_type": "code",
   "execution_count": null,
   "id": "61c44cb4",
   "metadata": {},
   "outputs": [],
   "source": [
    "da.plot_image_sprites(skip_empty=True, fig_size=(10, 10), show_index=True)"
   ]
  },
  {
   "cell_type": "markdown",
   "id": "264f8979",
   "metadata": {},
   "source": [
    "## Plot the final results of run `0`"
   ]
  },
  {
   "cell_type": "code",
   "execution_count": null,
   "id": "13821d9f",
   "metadata": {},
   "outputs": [],
   "source": [
    "da[0].display()"
   ]
  },
  {
   "cell_type": "markdown",
   "id": "2b135619",
   "metadata": {},
   "source": [
    "\n",
    "\n",
    "## Plot all intermediate results of the run `0`"
   ]
  },
  {
   "cell_type": "code",
   "execution_count": null,
   "id": "244ea242",
   "metadata": {},
   "outputs": [],
   "source": [
    "da[0].chunks.plot_image_sprites(skip_empty=True, fig_size=(10, 10), show_index=True)"
   ]
  },
  {
   "cell_type": "markdown",
   "id": "e230745a",
   "metadata": {},
   "source": [
    "## Get the parameters of run `0`"
   ]
  },
  {
   "cell_type": "code",
   "execution_count": null,
   "id": "38627a82",
   "metadata": {},
   "outputs": [],
   "source": [
    "da[0].tags"
   ]
  }
 ],
 "metadata": {
  "kernelspec": {
   "display_name": "Python 3 (ipykernel)",
   "language": "python",
   "name": "python3"
  },
  "language_info": {
   "codemirror_mode": {
    "name": "ipython",
    "version": 3
   },
   "file_extension": ".py",
   "mimetype": "text/x-python",
   "name": "python",
   "nbconvert_exporter": "python",
   "pygments_lexer": "ipython3",
   "version": "3.7.9"
  }
 },
 "nbformat": 4,
 "nbformat_minor": 5
}
